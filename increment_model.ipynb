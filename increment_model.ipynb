{
  "nbformat": 4,
  "nbformat_minor": 0,
  "metadata": {
    "colab": {
      "provenance": [],
      "authorship_tag": "ABX9TyMDWS8E6FxWh26oT4wGKRh/",
      "include_colab_link": true
    },
    "kernelspec": {
      "name": "python3",
      "display_name": "Python 3"
    },
    "language_info": {
      "name": "python"
    }
  },
  "cells": [
    {
      "cell_type": "markdown",
      "metadata": {
        "id": "view-in-github",
        "colab_type": "text"
      },
      "source": [
        "<a href=\"https://colab.research.google.com/github/Bhavana-pro/Dec12/blob/main/increment_model.ipynb\" target=\"_parent\"><img src=\"https://colab.research.google.com/assets/colab-badge.svg\" alt=\"Open In Colab\"/></a>"
      ]
    },
    {
      "cell_type": "markdown",
      "source": [
        "Stage 1: Hardcoding Variables"
      ],
      "metadata": {
        "id": "5QNt-Zn5F8co"
      }
    },
    {
      "cell_type": "code",
      "source": [
        "# Stage 1: Hardcoding Variables\n",
        "def calculate_weather_index(T, H, Wi):\n",
        "    W = 0.5 * T**2 - 0.2 * H + 0.1 * Wi - 15\n",
        "    return W\n",
        "\n",
        "def classify_weather(W):\n",
        "    if W > 300:\n",
        "        return \"Sunny\"\n",
        "    elif 200 <= W <= 300:\n",
        "        return \"Cloudy\"\n",
        "    elif 100 <= W < 200:\n",
        "        return \"Rainy\"\n",
        "    else:\n",
        "        return \"Stormy\"\n",
        "\n",
        "# Hardcoded values\n",
        "T = 25  # temperature in Celsius\n",
        "H = 60  # humidity percentage\n",
        "Wi = 15  # wind speed in km/h\n",
        "\n",
        "# Calculate weather index\n",
        "W = calculate_weather_index(T, H, Wi)\n",
        "\n",
        "# Classify the weather\n",
        "weather_condition = classify_weather(W)\n",
        "\n",
        "print(f\"Weather: {weather_condition}\")\n"
      ],
      "metadata": {
        "colab": {
          "base_uri": "https://localhost:8080/"
        },
        "id": "4ZkSDYpZF-HI",
        "outputId": "7378ad09-0b33-4e3a-8f49-03c8a328b58c"
      },
      "execution_count": 5,
      "outputs": [
        {
          "output_type": "stream",
          "name": "stdout",
          "text": [
            "Weather: Cloudy\n"
          ]
        }
      ]
    },
    {
      "cell_type": "markdown",
      "source": [],
      "metadata": {
        "id": "H_zvF_YvHTtQ"
      }
    },
    {
      "cell_type": "markdown",
      "source": [
        "Stage 2: Accepting Variables via Keyboard Input\n"
      ],
      "metadata": {
        "id": "SW9_yG1MHeCf"
      }
    },
    {
      "cell_type": "code",
      "source": [
        "# Stage 2: Accepting Variables via Keyboard Input\n",
        "def calculate_weather_index(T, H, Wi):\n",
        "    W = 0.5 * T**2 - 0.2 * H + 0.1 * Wi - 15\n",
        "    return W\n",
        "\n",
        "def classify_weather(W):\n",
        "    if W > 300:\n",
        "        return \"Sunny\"\n",
        "    elif 200 <= W <= 300:\n",
        "        return \"Cloudy\"\n",
        "    elif 100 <= W < 200:\n",
        "        return \"Rainy\"\n",
        "    else:\n",
        "        return \"Stormy\"\n",
        "\n",
        "# Accept user input\n",
        "T = float(input(\"Enter temperature (°C): \"))\n",
        "H = float(input(\"Enter humidity (%): \"))\n",
        "Wi = float(input(\"Enter wind speed (km/h): \"))\n",
        "\n",
        "# Calculate weather index\n",
        "W = calculate_weather_index(T, H, Wi)\n",
        "\n",
        "# Classify the weather\n",
        "weather_condition = classify_weather(W)\n",
        "\n",
        "print(f\"Weather: {weather_condition}\")\n"
      ],
      "metadata": {
        "colab": {
          "base_uri": "https://localhost:8080/"
        },
        "id": "Pz3-dT1LHjTm",
        "outputId": "1102a008-c232-440b-9164-34629e27cb28"
      },
      "execution_count": 6,
      "outputs": [
        {
          "output_type": "stream",
          "name": "stdout",
          "text": [
            "Enter temperature (°C): 20\n",
            "Enter humidity (%): 32\n",
            "Enter wind speed (km/h): 32\n",
            "Weather: Rainy\n"
          ]
        }
      ]
    },
    {
      "cell_type": "markdown",
      "source": [
        "Stage 3: Reading Variables from a File\n"
      ],
      "metadata": {
        "id": "KUdrdooyHqNl"
      }
    },
    {
      "cell_type": "code",
      "source": [
        "# Stage 3: Reading Variables from a File\n",
        "def calculate_weather_index(T, H, Wi):\n",
        "    W = 0.5 * T**2 - 0.2 * H + 0.1 * Wi - 15\n",
        "    return W\n",
        "\n",
        "def classify_weather(W):\n",
        "    if W > 300:\n",
        "        return \"Sunny\"\n",
        "    elif 200 <= W <= 300:\n",
        "        return \"Cloudy\"\n",
        "    elif 100 <= W < 200:\n",
        "        return \"Rainy\"\n",
        "    else:\n",
        "        return \"Stormy\"\n",
        "\n",
        "def process_file(file_path):\n",
        "    try:\n",
        "        with open(file_path, 'r') as file:\n",
        "            for line in file:\n",
        "                # Split the line into temperature, humidity, and wind speed\n",
        "                T, H, Wi = map(float, line.strip().split())\n",
        "\n",
        "                # Calculate the weather index\n",
        "                W = calculate_weather_index(T, H, Wi)\n",
        "\n",
        "                # Classify the weather\n",
        "                weather_condition = classify_weather(W)\n",
        "\n",
        "                # Print the weather condition\n",
        "                print(f\"Weather for T={T}, H={H}, Wi={Wi}: {weather_condition}\")\n",
        "    except FileNotFoundError:\n",
        "        print(\"Error: The file was not found.\")\n",
        "    except Exception as e:\n",
        "        print(f\"An error occurred: {e}\")\n",
        "\n",
        "# Specify the file path\n",
        "file_path = 'weather_data.txt'  # Ensure this file exists with the correct format\n",
        "process_file(file_path)\n",
        "\n"
      ],
      "metadata": {
        "colab": {
          "base_uri": "https://localhost:8080/"
        },
        "id": "h0p1JY1VHqwV",
        "outputId": "972f0a9f-5f75-44b0-c837-905ddc51ecd5"
      },
      "execution_count": 7,
      "outputs": [
        {
          "output_type": "stream",
          "name": "stdout",
          "text": [
            "Error: The file was not found.\n"
          ]
        }
      ]
    },
    {
      "cell_type": "markdown",
      "source": [
        "Stage 4: Processing a Single Set of Inputs\n"
      ],
      "metadata": {
        "id": "X3QdBoUzHtu9"
      }
    },
    {
      "cell_type": "code",
      "source": [
        "# Stage 4: Processing a Single Set of Inputs\n",
        "def calculate_weather_index(T, H, Wi):\n",
        "    W = 0.5 * T**2 - 0.2 * H + 0.1 * Wi - 15\n",
        "    return W\n",
        "\n",
        "def classify_weather(W):\n",
        "    if W > 300:\n",
        "        return \"Sunny\"\n",
        "    elif 200 <= W <= 300:\n",
        "        return \"Cloudy\"\n",
        "    elif 100 <= W < 200:\n",
        "        return \"Rainy\"\n",
        "    else:\n",
        "        return \"Stormy\"\n",
        "\n",
        "def process_single_input():\n",
        "    T = float(input(\"Enter temperature (°C): \"))\n",
        "    H = float(input(\"Enter humidity (%): \"))\n",
        "    Wi = float(input(\"Enter wind speed (km/h): \"))\n",
        "\n",
        "    W = calculate_weather_index(T, H, Wi)\n",
        "    weather_condition = classify_weather(W)\n",
        "\n",
        "    print(f\"Weather: {weather_condition}\")\n",
        "\n",
        "# Call the function for a single set of inputs\n",
        "process_single_input()\n"
      ],
      "metadata": {
        "colab": {
          "base_uri": "https://localhost:8080/"
        },
        "id": "4TtFZVRzHv2O",
        "outputId": "6aaee2e7-347b-4f1e-8fac-bf87b67ed0a8"
      },
      "execution_count": 8,
      "outputs": [
        {
          "output_type": "stream",
          "name": "stdout",
          "text": [
            "Enter temperature (°C): 10\n",
            "Enter humidity (%): 22\n",
            "Enter wind speed (km/h): 12\n",
            "Weather: Stormy\n"
          ]
        }
      ]
    },
    {
      "cell_type": "markdown",
      "source": [
        "Stage 5: Processing Multiple Sets of Inputs\n"
      ],
      "metadata": {
        "id": "3p-og6OkIBd1"
      }
    },
    {
      "cell_type": "code",
      "source": [
        "# Stage 5: Processing Multiple Sets of Inputs\n",
        "def calculate_weather_index(T, H, Wi):\n",
        "    W = 0.5 * T**2 - 0.2 * H + 0.1 * Wi - 15\n",
        "    return W\n",
        "\n",
        "def classify_weather(W):\n",
        "    if W > 300:\n",
        "        return \"Sunny\"\n",
        "    elif 200 <= W <= 300:\n",
        "        return \"Cloudy\"\n",
        "    elif 100 <= W < 200:\n",
        "        return \"Rainy\"\n",
        "    else:\n",
        "        return \"Stormy\"\n",
        "\n",
        "def process_multiple_inputs():\n",
        "    num_sets = int(input(\"Enter the number of data sets: \"))\n",
        "    for i in range(num_sets):\n",
        "        print(f\"\\nData Set {i+1}:\")\n",
        "        T = float(input(\"  Enter temperature (°C): \"))\n",
        "        H = float(input(\"  Enter humidity (%): \"))\n",
        "        Wi = float(input(\"  Enter wind speed (km/h): \"))\n",
        "\n",
        "        W = calculate_weather_index(T, H, Wi)\n",
        "        weather_condition = classify_weather(W)\n",
        "\n",
        "        print(f\"  Weather: {weather_condition}\")\n",
        "\n",
        "# Call the function for multiple sets of inputs\n",
        "process_multiple_inputs()\n"
      ],
      "metadata": {
        "colab": {
          "base_uri": "https://localhost:8080/"
        },
        "id": "H2pn6dKqICLt",
        "outputId": "cfee9c86-ec93-45fa-b2ae-65fac46aab78"
      },
      "execution_count": 9,
      "outputs": [
        {
          "output_type": "stream",
          "name": "stdout",
          "text": [
            "Enter the number of data sets: 2\n",
            "\n",
            "Data Set 1:\n",
            "  Enter temperature (°C): 12\n",
            "  Enter humidity (%): 23\n",
            "  Enter wind speed (km/h): 34\n",
            "  Weather: Stormy\n",
            "\n",
            "Data Set 2:\n",
            "  Enter temperature (°C): 11\n",
            "  Enter humidity (%): 55\n",
            "  Enter wind speed (km/h): 77\n",
            "  Weather: Stormy\n"
          ]
        }
      ]
    }
  ]
}