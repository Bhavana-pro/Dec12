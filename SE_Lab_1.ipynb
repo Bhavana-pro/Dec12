{
  "nbformat": 4,
  "nbformat_minor": 0,
  "metadata": {
    "colab": {
      "provenance": [],
      "authorship_tag": "ABX9TyMkVhqMHOTDO5n8RVFgB99N",
      "include_colab_link": true
    },
    "kernelspec": {
      "name": "python3",
      "display_name": "Python 3"
    },
    "language_info": {
      "name": "python"
    }
  },
  "cells": [
    {
      "cell_type": "markdown",
      "metadata": {
        "id": "view-in-github",
        "colab_type": "text"
      },
      "source": [
        "<a href=\"https://colab.research.google.com/github/Bhavana-pro/Dec12/blob/main/SE_Lab_1.ipynb\" target=\"_parent\"><img src=\"https://colab.research.google.com/assets/colab-badge.svg\" alt=\"Open In Colab\"/></a>"
      ]
    },
    {
      "cell_type": "markdown",
      "source": [
        "Implement weather modeling* using the quadratic solution in stages: hard-coding variables keyboard input, read from a file, for a single set of input, multiple sets of inputs.\n",
        "a. save all versions, debug, fix problems, create a Github account\n",
        "\n",
        "Implementation outline for weather modeling using a quadratic solution. The approach evolves in stages:\n",
        "\n",
        "Hardcoding variables.\n",
        "Accepting variables via keyboard input.\n",
        "Reading variables from a file.\n",
        "Processing a single set of inputs.\n",
        "Processing multiple sets of inputs. At the end, you will save the versions, debug, fix issues, and push the project to GitHub.\n"
      ],
      "metadata": {
        "id": "jHMtn4kFx-tu"
      }
    },
    {
      "cell_type": "markdown",
      "source": [
        "Stage 1: Hardcoding Variables\n"
      ],
      "metadata": {
        "id": "_5fwZk1byHJh"
      }
    },
    {
      "cell_type": "code",
      "source": [
        "def calculate_weather(T: float, H: float, Wi: float) -> str:\n",
        "    W = 0.5 * T**2 - 0.2 * H + 0.1 * Wi - 15\n",
        "    if W < 0:\n",
        "        return \"Stormy\"\n",
        "    elif W < 10:\n",
        "        return \"Rainy\"\n",
        "    elif W < 20:\n",
        "        return \"Cloudy\"\n",
        "    else:\n",
        "        return \"Sunny\"\n",
        "\n",
        "T = 8\n",
        "H = 15\n",
        "Wi = 5\n",
        "\n",
        "weather = calculate_weather(T, H, Wi)\n",
        "print(\"Weather:\", weather)"
      ],
      "metadata": {
        "colab": {
          "base_uri": "https://localhost:8080/"
        },
        "id": "dM5wqrZjyH3s",
        "outputId": "172cb9ab-40ae-4a99-a81a-889b9a989c01"
      },
      "execution_count": 6,
      "outputs": [
        {
          "output_type": "stream",
          "name": "stdout",
          "text": [
            "Weather: Cloudy\n"
          ]
        }
      ]
    },
    {
      "cell_type": "markdown",
      "source": [
        "Stage 2: Accepting variables via keyboard input\n",
        "\n"
      ],
      "metadata": {
        "id": "_R-6Q-6d6kSY"
      }
    },
    {
      "cell_type": "code",
      "source": [
        "# weather_modeling.py\n",
        "\n",
        "def calculate_weather(T: float, H: float, Wi: float) -> str:\n",
        "#equation calculation\n",
        "    W = 0.5 * T**2 - 0.2 * H + 0.1 * Wi - 15\n",
        "    if W < 0:\n",
        "        return \"Stormy\"\n",
        "    elif W < 10:\n",
        "        return \"Rainy\"\n",
        "    elif W < 20:\n",
        "        return \"Cloudy\"\n",
        "    else:\n",
        "        return \"Sunny\"\n",
        "\n",
        "def print_weather(weather):\n",
        "    print(\"Weather:\", weather)\n",
        "\n",
        "def main():\n",
        "    # Accept variables via keyboard input\n",
        "    T = float(input(\"Enter temperature: \"))\n",
        "    H = float(input(\"Enter humidity: \"))\n",
        "    Wi = float(input(\"Enter wind: \"))\n",
        "\n",
        "    # Calculating and print the weather\n",
        "    weather = calculate_weather(T, H, Wi)\n",
        "    print_weather(weather)\n",
        "\n",
        "if __name__ == \"__main__\":\n",
        "    main()"
      ],
      "metadata": {
        "colab": {
          "base_uri": "https://localhost:8080/"
        },
        "id": "6vBotEK36qJm",
        "outputId": "3f14470c-080f-4734-b746-db71944b1bc5"
      },
      "execution_count": 9,
      "outputs": [
        {
          "output_type": "stream",
          "name": "stdout",
          "text": [
            "Enter temperature: 8\n",
            "Enter humidity: 15\n",
            "Enter wind: 5\n",
            "Weather: Cloudy\n"
          ]
        }
      ]
    },
    {
      "cell_type": "markdown",
      "source": [
        "Stage 3: Reading variables from a file\n",
        "\n"
      ],
      "metadata": {
        "id": "sh-Jr4ew7hC_"
      }
    },
    {
      "cell_type": "code",
      "source": [
        "# weather_modeling.py\n",
        "\n",
        "def calculate_weather(T: float, H: float, Wi: float) -> str:\n",
        "\n",
        "    # Calculate the weather condition using the quadratic formula\n",
        "    W = 0.5 * T**2 - 0.2 * H + 0.1 * Wi - 15\n",
        "\n",
        "    # Determine the weather condition based on the calculated value\n",
        "    if W > 20:\n",
        "        return \"Sunny\"\n",
        "    elif W > 10:\n",
        "        return \"Cloudy\"\n",
        "    elif W > 0:\n",
        "        return \"Rainy\"\n",
        "    else:\n",
        "        return \"Stormy\"\n",
        "\n",
        "def main() -> None:\n",
        "    \"\"\"\n",
        "    Main function.\n",
        "    \"\"\"\n",
        "    # Open the file and read the variables\n",
        "    with open(\"weather.txt\", \"r\") as file:\n",
        "        for line in file:\n",
        "            # Split each line into three values\n",
        "            T, H, Wi = map(float, line.strip().split(','))\n",
        "\n",
        "            # Calculate the weather condition\n",
        "            weather = calculate_weather(T, H, Wi)\n",
        "\n",
        "            # Print the weather condition\n",
        "            print(f\"Temperature: {T}, Humidity: {H}, Wind Speed: {Wi}, Weather Condition: {weather}\")\n",
        "\n",
        "if __name__ == \"__main__\":\n",
        "    main()"
      ],
      "metadata": {
        "colab": {
          "base_uri": "https://localhost:8080/",
          "height": 292
        },
        "id": "pvyIKpz07jVI",
        "outputId": "86ba055e-8cd7-4435-d31a-5db31d408286"
      },
      "execution_count": 32,
      "outputs": [
        {
          "output_type": "error",
          "ename": "FileNotFoundError",
          "evalue": "[Errno 2] No such file or directory: 'weather.txt'",
          "traceback": [
            "\u001b[0;31m---------------------------------------------------------------------------\u001b[0m",
            "\u001b[0;31mFileNotFoundError\u001b[0m                         Traceback (most recent call last)",
            "\u001b[0;32m<ipython-input-32-8acd8be017eb>\u001b[0m in \u001b[0;36m<cell line: 44>\u001b[0;34m()\u001b[0m\n\u001b[1;32m     43\u001b[0m \u001b[0;34m\u001b[0m\u001b[0m\n\u001b[1;32m     44\u001b[0m \u001b[0;32mif\u001b[0m \u001b[0m__name__\u001b[0m \u001b[0;34m==\u001b[0m \u001b[0;34m\"__main__\"\u001b[0m\u001b[0;34m:\u001b[0m\u001b[0;34m\u001b[0m\u001b[0;34m\u001b[0m\u001b[0m\n\u001b[0;32m---> 45\u001b[0;31m     \u001b[0mmain\u001b[0m\u001b[0;34m(\u001b[0m\u001b[0;34m)\u001b[0m\u001b[0;34m\u001b[0m\u001b[0;34m\u001b[0m\u001b[0m\n\u001b[0m",
            "\u001b[0;32m<ipython-input-32-8acd8be017eb>\u001b[0m in \u001b[0;36mmain\u001b[0;34m()\u001b[0m\n\u001b[1;32m     31\u001b[0m     \"\"\"\n\u001b[1;32m     32\u001b[0m     \u001b[0;31m# Open the file and read the variables\u001b[0m\u001b[0;34m\u001b[0m\u001b[0;34m\u001b[0m\u001b[0m\n\u001b[0;32m---> 33\u001b[0;31m     \u001b[0;32mwith\u001b[0m \u001b[0mopen\u001b[0m\u001b[0;34m(\u001b[0m\u001b[0;34m\"weather.txt\"\u001b[0m\u001b[0;34m,\u001b[0m \u001b[0;34m\"r\"\u001b[0m\u001b[0;34m)\u001b[0m \u001b[0;32mas\u001b[0m \u001b[0mfile\u001b[0m\u001b[0;34m:\u001b[0m\u001b[0;34m\u001b[0m\u001b[0;34m\u001b[0m\u001b[0m\n\u001b[0m\u001b[1;32m     34\u001b[0m         \u001b[0;32mfor\u001b[0m \u001b[0mline\u001b[0m \u001b[0;32min\u001b[0m \u001b[0mfile\u001b[0m\u001b[0;34m:\u001b[0m\u001b[0;34m\u001b[0m\u001b[0;34m\u001b[0m\u001b[0m\n\u001b[1;32m     35\u001b[0m             \u001b[0;31m# Split each line into three values\u001b[0m\u001b[0;34m\u001b[0m\u001b[0;34m\u001b[0m\u001b[0m\n",
            "\u001b[0;31mFileNotFoundError\u001b[0m: [Errno 2] No such file or directory: 'weather.txt'"
          ]
        }
      ]
    },
    {
      "cell_type": "markdown",
      "source": [
        "Stage 4: Processing a single set of inputs\n",
        "\n"
      ],
      "metadata": {
        "id": "g3s90ZyJ-XiM"
      }
    },
    {
      "cell_type": "code",
      "source": [
        "# weather_modeling.py\n",
        "\n",
        "def calculate_weather(t, H, W):\n",
        "\n",
        "    return 0.5 * t**2 - 0.2 * H + 0.1 * W - 15\n",
        "\n",
        "def determine_weather(weather_value):\n",
        "\n",
        "    if weather_value < -5:\n",
        "        return \"Stormy\"\n",
        "    elif weather_value < 0:\n",
        "        return \"Rainy\"\n",
        "    elif weather_value < 5:\n",
        "        return \"Cloudy\"\n",
        "    else:\n",
        "        return \"Sunny\"\n",
        "\n",
        "def process_input(temperature, humidity, wind_speed):\n",
        "    \"\"\"\n",
        "    Process a single set of inputs.\n",
        "\n",
        "    Args:\n",
        "        temperature (float): Temperature.\n",
        "        humidity (float): Humidity.\n",
        "        wind_speed (float): Wind speed.\n",
        "\n",
        "    Returns:\n",
        "        str: Weather description.\n",
        "    \"\"\"\n",
        "    weather_value = calculate_weather(temperature, humidity, wind_speed)\n",
        "    weather = determine_weather(weather_value)\n",
        "    return weather\n",
        "\n",
        "def main():\n",
        "    # Get user input\n",
        "    temperature = float(input(\"Enter temperature (Sunny: 25, Cloudy: 20, Stormy: 15, Rainy: 10): \"))\n",
        "    humidity = float(input(\"Enter humidity (0-100): \"))\n",
        "    wind_speed = float(input(\"Enter wind speed (0-100): \"))\n",
        "\n",
        "    weather = process_input(temperature, humidity, wind_speed)\n",
        "    print(f\"Weather: {weather}\")\n",
        "\n",
        "if __name__ == \"__main__\":\n",
        "    main()"
      ],
      "metadata": {
        "id": "jE62Sl8F-ZTF",
        "outputId": "e185e4b0-55c5-478f-eef6-fd12bb319854",
        "colab": {
          "base_uri": "https://localhost:8080/"
        }
      },
      "execution_count": 34,
      "outputs": [
        {
          "output_type": "stream",
          "name": "stdout",
          "text": [
            "Enter temperature (Sunny: 25, Cloudy: 20, Stormy: 15, Rainy: 10): 5\n",
            "Enter humidity (0-100): 18\n",
            "Enter wind speed (0-100): 15\n",
            "Weather: Rainy\n"
          ]
        }
      ]
    },
    {
      "cell_type": "markdown",
      "source": [
        "Stage 5: Processing Multiple Sets of Inputs\n",
        "\n"
      ],
      "metadata": {
        "id": "juDlz6M_CyBU"
      }
    },
    {
      "cell_type": "code",
      "source": [
        "# weather_modeling.py\n",
        "\n",
        "def calculate_weather(t, H, W):\n",
        "\n",
        "    return 0.5 * t**2 - 0.2 * H + 0.1 * W - 15\n",
        "\n",
        "def determine_weather(weather_value):\n",
        "\n",
        "    if weather_value < -5:\n",
        "        return \"Stormy\"\n",
        "    elif weather_value < 0:\n",
        "        return \"Rainy\"\n",
        "    elif weather_value < 5:\n",
        "        return \"Cloudy\"\n",
        "    else:\n",
        "        return \"Sunny\"\n",
        "\n",
        "def process_input(temperature, humidity, wind_speed):\n",
        "\n",
        "    weather_value = calculate_weather(temperature, humidity, wind_speed)\n",
        "    weather = determine_weather(weather_value)\n",
        "    return weather\n",
        "\n",
        "def process_multiple_inputs():\n",
        "\n",
        "    num_inputs = int(input(\"Enter the number of inputs: \"))\n",
        "\n",
        "    for i in range(num_inputs):\n",
        "        print(f\"Input {i+1}:\")\n",
        "        temperature = float(input(\"Enter temperature (Sunny: 25, Cloudy: 20, Stormy: 15, Rainy: 10): \"))\n",
        "        humidity = float(input(\"Enter humidity (0-100): \"))\n",
        "        wind_speed = float(input(\"Enter wind speed (0-100): \"))\n",
        "\n",
        "        weather = process_input(temperature, humidity, wind_speed)\n",
        "        print(f\"Weather: {weather}\\n\")\n",
        "\n",
        "def main():\n",
        "    # Process multiple sets of inputs\n",
        "    process_multiple_inputs()\n",
        "\n",
        "if __name__ == \"__main__\":\n",
        "    main()"
      ],
      "metadata": {
        "id": "oqKa_4wJC0Cz",
        "outputId": "ca2077f5-9e8f-454a-a268-69e29f098005",
        "colab": {
          "base_uri": "https://localhost:8080/"
        }
      },
      "execution_count": 35,
      "outputs": [
        {
          "output_type": "stream",
          "name": "stdout",
          "text": [
            "Enter the number of inputs: 3\n",
            "Input 1:\n",
            "Enter temperature (Sunny: 25, Cloudy: 20, Stormy: 15, Rainy: 10): 2\n",
            "Enter humidity (0-100): 8\n",
            "Enter wind speed (0-100): 14\n",
            "Weather: Stormy\n",
            "\n",
            "Input 2:\n",
            "Enter temperature (Sunny: 25, Cloudy: 20, Stormy: 15, Rainy: 10): 12\n",
            "Enter humidity (0-100): 23\n",
            "Enter wind speed (0-100): 34\n",
            "Weather: Sunny\n",
            "\n",
            "Input 3:\n",
            "Enter temperature (Sunny: 25, Cloudy: 20, Stormy: 15, Rainy: 10): 23\n",
            "Enter humidity (0-100): 22\n",
            "Enter wind speed (0-100): 1\n",
            "Weather: Sunny\n",
            "\n"
          ]
        }
      ]
    }
  ]
}