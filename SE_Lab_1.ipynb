{
  "nbformat": 4,
  "nbformat_minor": 0,
  "metadata": {
    "colab": {
      "provenance": [],
      "authorship_tag": "ABX9TyNU7C3SyABuAzCukYSz3obX",
      "include_colab_link": true
    },
    "kernelspec": {
      "name": "python3",
      "display_name": "Python 3"
    },
    "language_info": {
      "name": "python"
    }
  },
  "cells": [
    {
      "cell_type": "markdown",
      "metadata": {
        "id": "view-in-github",
        "colab_type": "text"
      },
      "source": [
        "<a href=\"https://colab.research.google.com/github/Bhavana-pro/Dec12/blob/main/SE_Lab_1.ipynb\" target=\"_parent\"><img src=\"https://colab.research.google.com/assets/colab-badge.svg\" alt=\"Open In Colab\"/></a>"
      ]
    },
    {
      "cell_type": "markdown",
      "source": [
        "Implement weather modeling* using the quadratic solution in stages: hard-coding variables keyboard input, read from a file, for a single set of input, multiple sets of inputs.\n",
        "a. save all versions, debug, fix problems, create a Github account\n",
        "\n",
        "Implementation outline for weather modeling using a quadratic solution. The approach evolves in stages:\n",
        "\n",
        "Hardcoding variables.\n",
        "Accepting variables via keyboard input.\n",
        "Reading variables from a file.\n",
        "Processing a single set of inputs.\n",
        "Processing multiple sets of inputs. At the end, you will save the versions, debug, fix issues, and push the project to GitHub.\n"
      ],
      "metadata": {
        "id": "jHMtn4kFx-tu"
      }
    },
    {
      "cell_type": "markdown",
      "source": [
        "Stage 1: Hardcoding Variables\n"
      ],
      "metadata": {
        "id": "_5fwZk1byHJh"
      }
    },
    {
      "cell_type": "code",
      "source": [
        "def calculate_weather(T: float, H: float, Wi: float) -> str:\n",
        "    W = 0.5 * T**2 - 0.2 * H + 0.1 * Wi - 15\n",
        "    if W < 0:\n",
        "        return \"Stormy\"\n",
        "    elif W < 10:\n",
        "        return \"Rainy\"\n",
        "    elif W < 20:\n",
        "        return \"Cloudy\"\n",
        "    else:\n",
        "        return \"Sunny\"\n",
        "\n",
        "T = 8\n",
        "H = 15\n",
        "Wi = 5\n",
        "\n",
        "weather = calculate_weather(T, H, Wi)\n",
        "print(\"Weather:\", weather)"
      ],
      "metadata": {
        "colab": {
          "base_uri": "https://localhost:8080/"
        },
        "id": "dM5wqrZjyH3s",
        "outputId": "172cb9ab-40ae-4a99-a81a-889b9a989c01"
      },
      "execution_count": null,
      "outputs": [
        {
          "output_type": "stream",
          "name": "stdout",
          "text": [
            "Weather: Cloudy\n"
          ]
        }
      ]
    },
    {
      "cell_type": "markdown",
      "source": [
        "Stage 2: Accepting variables via keyboard input\n",
        "\n"
      ],
      "metadata": {
        "id": "_R-6Q-6d6kSY"
      }
    },
    {
      "cell_type": "code",
      "source": [
        "# weather_modeling.py\n",
        "\n",
        "def calculate_weather(T: float, H: float, Wi: float) -> str:\n",
        "#equation calculation\n",
        "    W = 0.5 * T**2 - 0.2 * H + 0.1 * Wi - 15\n",
        "    if W < 0:\n",
        "        return \"Stormy\"\n",
        "    elif W < 10:\n",
        "        return \"Rainy\"\n",
        "    elif W < 20:\n",
        "        return \"Cloudy\"\n",
        "    else:\n",
        "        return \"Sunny\"\n",
        "\n",
        "def print_weather(weather):\n",
        "    print(\"Weather:\", weather)\n",
        "\n",
        "def main():\n",
        "    # Accept variables via keyboard input\n",
        "    T = float(input(\"Enter temperature: \"))\n",
        "    H = float(input(\"Enter humidity: \"))\n",
        "    Wi = float(input(\"Enter wind: \"))\n",
        "\n",
        "    # Calculating and print the weather\n",
        "    weather = calculate_weather(T, H, Wi)\n",
        "    print_weather(weather)\n",
        "\n",
        "if __name__ == \"__main__\":\n",
        "    main()"
      ],
      "metadata": {
        "colab": {
          "base_uri": "https://localhost:8080/"
        },
        "id": "6vBotEK36qJm",
        "outputId": "3f14470c-080f-4734-b746-db71944b1bc5"
      },
      "execution_count": null,
      "outputs": [
        {
          "output_type": "stream",
          "name": "stdout",
          "text": [
            "Enter temperature: 8\n",
            "Enter humidity: 15\n",
            "Enter wind: 5\n",
            "Weather: Cloudy\n"
          ]
        }
      ]
    },
    {
      "cell_type": "markdown",
      "source": [
        "Stage 3: Reading variables from a file\n",
        "\n"
      ],
      "metadata": {
        "id": "sh-Jr4ew7hC_"
      }
    },
    {
      "cell_type": "code",
      "source": [
        "def classify_weather(temperature, humidity, wind_intensity):\n",
        "    \"\"\"Classify the weather based on temperature, humidity, and wind intensity.\"\"\"\n",
        "    if temperature > 30:\n",
        "        return \"Hot\"\n",
        "    elif temperature > 20:\n",
        "        return \"Warm\"\n",
        "    elif temperature > 10:\n",
        "        return \"Cool\"\n",
        "    else:\n",
        "        return \"Cold\"\n",
        "\n",
        "def main():\n",
        "    # Path to the weather data file\n",
        "    file_path = 'weather_data.txt.save'  # This is the name of the uploaded file\n",
        "\n",
        "    try:\n",
        "        with open(file_path, 'r', encoding='utf-8') as file:\n",
        "            for line in file:\n",
        "                # Split the line into temperature, humidity, and wind intensity\n",
        "                data = line.strip().split()\n",
        "                if len(data) != 3:\n",
        "                    print(f\"Invalid data format: {line.strip()}\")\n",
        "                    continue\n",
        "\n",
        "                # Convert the values to float\n",
        "                temperature, humidity, wind_intensity = map(float, data)\n",
        "\n",
        "                # Classify the weather\n",
        "                weather_condition = classify_weather(temperature, humidity, wind_intensity)\n",
        "\n",
        "                # Print the result\n",
        "                print(f\"Weather for T={temperature}, H={humidity}, Wi={wind_intensity}: {weather_condition}\")\n",
        "\n",
        "    except FileNotFoundError:\n",
        "        print(f\"Error: The file '{file_path}' was not found.\")\n",
        "    except Exception as e:\n",
        "        print(f\"An error occurred: {e}\")\n",
        "\n",
        "# Run the main function\n",
        "main()"
      ],
      "metadata": {
        "colab": {
          "base_uri": "https://localhost:8080/"
        },
        "id": "pvyIKpz07jVI",
        "outputId": "f6fd1dbf-3c47-4f27-d2df-d61834e68fa1"
      },
      "execution_count": 17,
      "outputs": [
        {
          "output_type": "stream",
          "name": "stdout",
          "text": [
            "Weather for T=8.0, H=15.0, Wi=5.0: Cold\n",
            "Weather for T=10.0, H=20.0, Wi=10.0: Cold\n",
            "Weather for T=5.0, H=30.0, Wi=15.0: Cold\n"
          ]
        }
      ]
    },
    {
      "cell_type": "markdown",
      "source": [
        "Stage 4: Processing a single set of inputs\n",
        "\n"
      ],
      "metadata": {
        "id": "g3s90ZyJ-XiM"
      }
    },
    {
      "cell_type": "code",
      "source": [
        "# weather_modeling.py\n",
        "\n",
        "def calculate_weather(t, H, W):\n",
        "\n",
        "    return 0.5 * t**2 - 0.2 * H + 0.1 * W - 15\n",
        "\n",
        "def determine_weather(weather_value):\n",
        "\n",
        "    if weather_value < -5:\n",
        "        return \"Stormy\"\n",
        "    elif weather_value < 0:\n",
        "        return \"Rainy\"\n",
        "    elif weather_value < 5:\n",
        "        return \"Cloudy\"\n",
        "    else:\n",
        "        return \"Sunny\"\n",
        "\n",
        "def process_input(temperature, humidity, wind_speed):\n",
        "    \"\"\"\n",
        "    Process a single set of inputs.\n",
        "\n",
        "    Args:\n",
        "        temperature (float): Temperature.\n",
        "        humidity (float): Humidity.\n",
        "        wind_speed (float): Wind speed.\n",
        "\n",
        "    Returns:\n",
        "        str: Weather description.\n",
        "    \"\"\"\n",
        "    weather_value = calculate_weather(temperature, humidity, wind_speed)\n",
        "    weather = determine_weather(weather_value)\n",
        "    return weather\n",
        "\n",
        "def main():\n",
        "    # Get user input\n",
        "    temperature = float(input(\"Enter temperature (Sunny: 25, Cloudy: 20, Stormy: 15, Rainy: 10): \"))\n",
        "    humidity = float(input(\"Enter humidity (0-100): \"))\n",
        "    wind_speed = float(input(\"Enter wind speed (0-100): \"))\n",
        "\n",
        "    weather = process_input(temperature, humidity, wind_speed)\n",
        "    print(f\"Weather: {weather}\")\n",
        "\n",
        "if __name__ == \"__main__\":\n",
        "    main()"
      ],
      "metadata": {
        "id": "jE62Sl8F-ZTF",
        "outputId": "e185e4b0-55c5-478f-eef6-fd12bb319854",
        "colab": {
          "base_uri": "https://localhost:8080/"
        }
      },
      "execution_count": null,
      "outputs": [
        {
          "output_type": "stream",
          "name": "stdout",
          "text": [
            "Enter temperature (Sunny: 25, Cloudy: 20, Stormy: 15, Rainy: 10): 5\n",
            "Enter humidity (0-100): 18\n",
            "Enter wind speed (0-100): 15\n",
            "Weather: Rainy\n"
          ]
        }
      ]
    },
    {
      "cell_type": "markdown",
      "source": [
        "Stage 5: Processing Multiple Sets of Inputs\n",
        "\n"
      ],
      "metadata": {
        "id": "juDlz6M_CyBU"
      }
    },
    {
      "cell_type": "code",
      "source": [
        "# weather_modeling.py\n",
        "\n",
        "def calculate_weather(t, H, W):\n",
        "\n",
        "    return 0.5 * t**2 - 0.2 * H + 0.1 * W - 15\n",
        "\n",
        "def determine_weather(weather_value):\n",
        "\n",
        "    if weather_value < -5:\n",
        "        return \"Stormy\"\n",
        "    elif weather_value < 0:\n",
        "        return \"Rainy\"\n",
        "    elif weather_value < 5:\n",
        "        return \"Cloudy\"\n",
        "    else:\n",
        "        return \"Sunny\"\n",
        "\n",
        "def process_input(temperature, humidity, wind_speed):\n",
        "\n",
        "    weather_value = calculate_weather(temperature, humidity, wind_speed)\n",
        "    weather = determine_weather(weather_value)\n",
        "    return weather\n",
        "\n",
        "def process_multiple_inputs():\n",
        "\n",
        "    num_inputs = int(input(\"Enter the number of inputs: \"))\n",
        "\n",
        "    for i in range(num_inputs):\n",
        "        print(f\"Input {i+1}:\")\n",
        "        temperature = float(input(\"Enter temperature (Sunny: 25, Cloudy: 20, Stormy: 15, Rainy: 10): \"))\n",
        "        humidity = float(input(\"Enter humidity (0-100): \"))\n",
        "        wind_speed = float(input(\"Enter wind speed (0-100): \"))\n",
        "\n",
        "        weather = process_input(temperature, humidity, wind_speed)\n",
        "        print(f\"Weather: {weather}\\n\")\n",
        "\n",
        "def main():\n",
        "    # Process multiple sets of inputs\n",
        "    process_multiple_inputs()\n",
        "\n",
        "if __name__ == \"__main__\":\n",
        "    main()"
      ],
      "metadata": {
        "id": "oqKa_4wJC0Cz",
        "outputId": "ca2077f5-9e8f-454a-a268-69e29f098005",
        "colab": {
          "base_uri": "https://localhost:8080/"
        }
      },
      "execution_count": null,
      "outputs": [
        {
          "output_type": "stream",
          "name": "stdout",
          "text": [
            "Enter the number of inputs: 3\n",
            "Input 1:\n",
            "Enter temperature (Sunny: 25, Cloudy: 20, Stormy: 15, Rainy: 10): 2\n",
            "Enter humidity (0-100): 8\n",
            "Enter wind speed (0-100): 14\n",
            "Weather: Stormy\n",
            "\n",
            "Input 2:\n",
            "Enter temperature (Sunny: 25, Cloudy: 20, Stormy: 15, Rainy: 10): 12\n",
            "Enter humidity (0-100): 23\n",
            "Enter wind speed (0-100): 34\n",
            "Weather: Sunny\n",
            "\n",
            "Input 3:\n",
            "Enter temperature (Sunny: 25, Cloudy: 20, Stormy: 15, Rainy: 10): 23\n",
            "Enter humidity (0-100): 22\n",
            "Enter wind speed (0-100): 1\n",
            "Weather: Sunny\n",
            "\n"
          ]
        }
      ]
    }
  ]
}